{
  "cells": [
    {
      "cell_type": "markdown",
      "metadata": {
        "id": "9VBoTkYGyccA"
      },
      "source": [
        "# Reconstruyendo la configuración inicial del primer notebook"
      ]
    },
    {
      "cell_type": "markdown",
      "metadata": {
        "id": "jPxhaw7KyccD"
      },
      "source": [
        "Se cargan las librerías iniciales."
      ]
    },
    {
      "cell_type": "code",
      "execution_count": null,
      "metadata": {
        "id": "oAO98yiyyccF"
      },
      "outputs": [],
      "source": [
        "import torch\n",
        "import os\n",
        "from diffusers import UNet2DModel, DDPMPipeline, DDPMScheduler\n",
        "from torch.optim import AdamW\n",
        "from torch.optim.lr_scheduler import CosineAnnealingLR\n",
        "from datasets import load_dataset\n",
        "from torchvision import transforms\n",
        "from accelerate import Accelerator\n",
        "from torch.utils.data import DataLoader\n",
        "from tqdm.auto import tqdm  # Línea de progreso para el entrenamiento"
      ]
    },
    {
      "cell_type": "markdown",
      "metadata": {
        "id": "y3FxpsRWyccH"
      },
      "source": [
        "Se replica la configuración del notebook anterior, añadiéndole más épocas."
      ]
    },
    {
      "cell_type": "code",
      "execution_count": null,
      "metadata": {
        "id": "HldjMn4iyccI"
      },
      "outputs": [],
      "source": [
        "from dataclasses import dataclass\n",
        "\n",
        "@dataclass\n",
        "class TrainingConfig:\n",
        "    image_size = 128\n",
        "    train_batch_size = 10\n",
        "    eval_batch_size = 16\n",
        "    num_epochs = 50 + 150 # Se le añaden otras 150 épocas para que quede mejor entrenado, espero\n",
        "    gradient_accumulation_steps = 1\n",
        "    learning_rate = 1e-4\n",
        "    lr_warmup_steps = 500\n",
        "    save_image_epochs = 10\n",
        "    save_model_epochs = 30\n",
        "    mixed_precision = \"fp16\"\n",
        "    seed = 42\n",
        "    output_dir = \"ddpm-cars-128\"\n",
        "\n",
        "    push_to_hub = False\n",
        "\n",
        "config = TrainingConfig()"
      ]
    },
    {
      "cell_type": "markdown",
      "metadata": {
        "id": "preCClE-yccJ"
      },
      "source": [
        "## Cargando los estados del notebook anterior."
      ]
    },
    {
      "cell_type": "code",
      "execution_count": null,
      "metadata": {
        "id": "tRmGDL0ByccK"
      },
      "outputs": [],
      "source": [
        "from datasets import load_dataset\n",
        "\n",
        "config.dataset_name = \"tanganke/stanford_cars\"\n",
        "dataset = load_dataset(config.dataset_name, split=\"train\")"
      ]
    },
    {
      "cell_type": "code",
      "execution_count": null,
      "metadata": {
        "id": "TIbb2N4ByccK"
      },
      "outputs": [],
      "source": [
        "from torchvision import transforms\n",
        "\n",
        "# Definir las transformaciones que se aplicarán a cada imagen en el dataset\n",
        "preprocess = transforms.Compose([\n",
        "    transforms.Resize((config.image_size, config.image_size)),\n",
        "    transforms.ToTensor(),\n",
        "    transforms.Normalize([0.5, 0.5, 0.5], [0.5, 0.5, 0.5]),  # Normaliza imágenes RGB\n",
        "])"
      ]
    },
    {
      "cell_type": "code",
      "execution_count": null,
      "metadata": {
        "id": "kEQWi1w1yccL"
      },
      "outputs": [],
      "source": [
        "def transform(examples):\n",
        "    images = [preprocess(image.convert(\"RGB\")) for image in examples[\"image\"]]\n",
        "    return {\"images\": images}\n",
        "\n",
        "dataset.set_transform(transform)"
      ]
    },
    {
      "cell_type": "code",
      "execution_count": null,
      "metadata": {
        "id": "Nh75gWdzyccM"
      },
      "outputs": [],
      "source": [
        "train_dataloader = torch.utils.data.DataLoader(dataset, batch_size=config.train_batch_size, shuffle=True)"
      ]
    },
    {
      "cell_type": "markdown",
      "metadata": {
        "id": "5usNB-mNyccN"
      },
      "source": [
        "## Cargando el modelo anterior, junto al scheduler y al optimizador"
      ]
    },
    {
      "cell_type": "code",
      "execution_count": null,
      "metadata": {
        "id": "1P059FmiyccN",
        "outputId": "cfb47143-d568-4ac5-80a9-0d2d37b2e5a3"
      },
      "outputs": [
        {
          "name": "stderr",
          "output_type": "stream",
          "text": [
            "/tmp/ipykernel_8637/589757197.py:7: FutureWarning: You are using `torch.load` with `weights_only=False` (the current default value), which uses the default pickle module implicitly. It is possible to construct malicious pickle data which will execute arbitrary code during unpickling (See https://github.com/pytorch/pytorch/blob/main/SECURITY.md#untrusted-models for more details). In a future release, the default value for `weights_only` will be flipped to `True`. This limits the functions that could be executed during unpickling. Arbitrary objects will no longer be allowed to be loaded via this mode unless they are explicitly allowlisted by the user via `torch.serialization.add_safe_globals`. We recommend you start setting `weights_only=True` for any use case where you don't have full control of the loaded file. Please open an issue on GitHub for any issues related to this experimental feature.\n",
            "  optimizer.load_state_dict(torch.load(optimizer_state_path))\n",
            "/tmp/ipykernel_8637/589757197.py:12: FutureWarning: You are using `torch.load` with `weights_only=False` (the current default value), which uses the default pickle module implicitly. It is possible to construct malicious pickle data which will execute arbitrary code during unpickling (See https://github.com/pytorch/pytorch/blob/main/SECURITY.md#untrusted-models for more details). In a future release, the default value for `weights_only` will be flipped to `True`. This limits the functions that could be executed during unpickling. Arbitrary objects will no longer be allowed to be loaded via this mode unless they are explicitly allowlisted by the user via `torch.serialization.add_safe_globals`. We recommend you start setting `weights_only=True` for any use case where you don't have full control of the loaded file. Please open an issue on GitHub for any issues related to this experimental feature.\n",
            "  lr_scheduler.load_state_dict(torch.load(scheduler_state_path))\n"
          ]
        }
      ],
      "source": [
        "# Cargar el modelo guardado previamente desde el directorio de salida\n",
        "model = UNet2DModel.from_pretrained(os.path.join(config.output_dir, \"unet\"))\n",
        "\n",
        "# Inicializar el optimizer y cargar su estado guardado\n",
        "optimizer = AdamW(model.parameters(), lr=config.learning_rate)\n",
        "optimizer_state_path = os.path.join(config.output_dir, \"optimizer_state.pt\")\n",
        "optimizer.load_state_dict(torch.load(optimizer_state_path))\n",
        "\n",
        "# Inicializar el scheduler y cargar su estado\n",
        "lr_scheduler = CosineAnnealingLR(optimizer, T_max=config.num_epochs)\n",
        "scheduler_state_path = os.path.join(config.output_dir, \"scheduler_state.pt\")\n",
        "lr_scheduler.load_state_dict(torch.load(scheduler_state_path))\n",
        "\n",
        "# Si también usaste un noise scheduler (como DDPM in Diffusers)\n",
        "noise_scheduler = DDPMScheduler.from_pretrained(os.path.join(config.output_dir, \"scheduler\"))"
      ]
    },
    {
      "cell_type": "code",
      "execution_count": null,
      "metadata": {
        "id": "-t9Y1W_0yccO",
        "outputId": "9a9cdc1f-34ec-4866-93e4-651545156128"
      },
      "outputs": [
        {
          "name": "stderr",
          "output_type": "stream",
          "text": [
            "/home/creep/workshop/diffusion-model/.env/lib/python3.12/site-packages/accelerate/accelerator.py:443: UserWarning: `log_with=tensorboard` was passed but no supported trackers are currently installed.\n",
            "  warnings.warn(f\"`log_with={log_with}` was passed but no supported trackers are currently installed.\")\n"
          ]
        }
      ],
      "source": [
        "from accelerate import Accelerator\n",
        "\n",
        "# Inicializa el objeto Accelerator para gestionar entrenamiento en GPU en caso de estar disponible\n",
        "accelerator = Accelerator(\n",
        "    mixed_precision=config.mixed_precision,  # Asegura que sea igual a como lo configuraste antes\n",
        "    gradient_accumulation_steps=config.gradient_accumulation_steps,  # Si estabas usando grad accumulation\n",
        "    log_with=\"tensorboard\",  # O Weights & Biases si lo preferías\n",
        "    project_dir=os.path.join(config.output_dir, \"logs\"),  # Directorio para logs del entrenamiento\n",
        ")\n",
        "\n",
        "# Prepare el modelo, optimizer, dataloader, y scheduler para el entrenamiento (si tienes dataloader configurado)\n",
        "model, optimizer, train_dataloader, lr_scheduler = accelerator.prepare(\n",
        "    model, optimizer, train_dataloader, lr_scheduler\n",
        ")"
      ]
    },
    {
      "cell_type": "code",
      "execution_count": null,
      "metadata": {
        "id": "_uBjwOa9yccP"
      },
      "outputs": [],
      "source": [
        "from diffusers import DDPMPipeline\n",
        "from diffusers.utils import make_image_grid\n",
        "import os\n",
        "\n",
        "def evaluate(config, epoch, pipeline):\n",
        "    # Sample some images from random noise (this is the backward diffusion process).\n",
        "    # The default pipeline output type is `List[PIL.Image]`\n",
        "    images = pipeline(\n",
        "        batch_size=config.eval_batch_size,\n",
        "        generator=torch.Generator(device='cpu').manual_seed(config.seed), # Use a separate torch generator to avoid rewinding the random state of the main training loop\n",
        "    ).images\n",
        "\n",
        "    # Make a grid out of the images\n",
        "    image_grid = make_image_grid(images, rows=4, cols=4)\n",
        "\n",
        "    # Save the images\n",
        "    test_dir = os.path.join(config.output_dir, \"samples\")\n",
        "    os.makedirs(test_dir, exist_ok=True)\n",
        "    image_grid.save(f\"{test_dir}/{epoch:04d}.png\")"
      ]
    },
    {
      "cell_type": "markdown",
      "metadata": {
        "id": "pgKNNHrSyccQ"
      },
      "source": [
        "## Volviendo a definir la función de entrenamiento, modificada para guardar snapshots cada 30 épocas"
      ]
    },
    {
      "cell_type": "code",
      "execution_count": null,
      "metadata": {
        "id": "fKlzLvQuyccQ"
      },
      "outputs": [],
      "source": [
        "from huggingface_hub import create_repo, upload_folder\n",
        "from tqdm.auto import tqdm\n",
        "from pathlib import Path\n",
        "from torch.functional import F\n",
        "\n",
        "def train_loop(config, model, noise_scheduler, optimizer, train_dataloader, lr_scheduler):\n",
        "    if accelerator.is_main_process:\n",
        "        if config.output_dir is not None:\n",
        "            os.makedirs(config.output_dir, exist_ok=True)\n",
        "        if config.push_to_hub:\n",
        "            repo_id = create_repo(\n",
        "                repo_id=config.hub_model_id or Path(config.output_dir).name, exist_ok=True\n",
        "            ).repo_id\n",
        "        accelerator.init_trackers(\"train_example\")\n",
        "\n",
        "    # Prepare everything\n",
        "    # There is no specific order to remember, you just need to unpack the\n",
        "    # objects in the same order you gave them to the prepare method.\n",
        "    model, optimizer, train_dataloader, lr_scheduler = accelerator.prepare(\n",
        "        model, optimizer, train_dataloader, lr_scheduler\n",
        "    )\n",
        "\n",
        "    global_step = 0\n",
        "\n",
        "    # Now you train the model\n",
        "    for epoch in range(50, config.num_epochs):\n",
        "        progress_bar = tqdm(total=len(train_dataloader), disable=not accelerator.is_local_main_process)\n",
        "        progress_bar.set_description(f\"Epoch {epoch}\")\n",
        "\n",
        "        for step, batch in enumerate(train_dataloader):\n",
        "            clean_images = batch[\"images\"]\n",
        "            # Sample noise to add to the images\n",
        "            noise = torch.randn(clean_images.shape, device=clean_images.device)\n",
        "            bs = clean_images.shape[0]\n",
        "\n",
        "            # Sample a random timestep for each image\n",
        "            timesteps = torch.randint(\n",
        "                0, noise_scheduler.config.num_train_timesteps, (bs,), device=clean_images.device,\n",
        "                dtype=torch.int64\n",
        "            )\n",
        "\n",
        "            # Add noise to the clean images according to the noise magnitude at each timestep\n",
        "            # (this is the forward diffusion process)\n",
        "            noisy_images = noise_scheduler.add_noise(clean_images, noise, timesteps)\n",
        "\n",
        "            with accelerator.accumulate(model):\n",
        "                # Predict the noise residual\n",
        "                noise_pred = model(noisy_images, timesteps, return_dict=False)[0]\n",
        "                loss = F.mse_loss(noise_pred, noise)\n",
        "                accelerator.backward(loss)\n",
        "\n",
        "                if accelerator.sync_gradients:\n",
        "                    accelerator.clip_grad_norm_(model.parameters(), 1.0)\n",
        "                optimizer.step()\n",
        "                lr_scheduler.step()\n",
        "                optimizer.zero_grad()\n",
        "\n",
        "            progress_bar.update(1)\n",
        "            logs = {\"loss\": loss.detach().item(), \"lr\": lr_scheduler.get_last_lr()[0], \"step\": global_step}\n",
        "            progress_bar.set_postfix(**logs)\n",
        "            accelerator.log(logs, step=global_step)\n",
        "            global_step += 1\n",
        "\n",
        "        # After each epoch you optionally sample some demo images with evaluate() and save the model\n",
        "        if accelerator.is_main_process:\n",
        "            pipeline = DDPMPipeline(unet=accelerator.unwrap_model(model), scheduler=noise_scheduler)\n",
        "\n",
        "            if (epoch + 1) % config.save_image_epochs == 0 or epoch == config.num_epochs - 1:\n",
        "                evaluate(config, epoch, pipeline)\n",
        "\n",
        "            # Save the model in a unique directory for each epoch\n",
        "            if (epoch + 1) % config.save_model_epochs == 0 or epoch == config.num_epochs - 1:\n",
        "                epoch_output_dir = os.path.join(config.output_dir, f\"epoch-{epoch + 1}\")\n",
        "                os.makedirs(epoch_output_dir, exist_ok=True)\n",
        "\n",
        "                if config.push_to_hub:\n",
        "                    upload_folder(\n",
        "                        repo_id=repo_id,\n",
        "                        folder_path=epoch_output_dir,\n",
        "                        commit_message=f\"Epoch {epoch}\",\n",
        "                        ignore_patterns=[\"step_*\", \"epoch_*\"],\n",
        "                    )\n",
        "                else:\n",
        "                    # Save model into the output directory specified for this epoch\n",
        "                    pipeline.save_pretrained(epoch_output_dir)\n",
        "\n",
        "                # Optionally, save the optimizer and scheduler states for each epoch\n",
        "                torch.save(optimizer.state_dict(), os.path.join(epoch_output_dir, \"optimizer_state.pt\"))\n",
        "                torch.save(lr_scheduler.state_dict(), os.path.join(epoch_output_dir, \"scheduler_state.pt\"))"
      ]
    },
    {
      "cell_type": "code",
      "execution_count": null,
      "metadata": {
        "id": "ywnW3f6-yccR",
        "outputId": "61080ec5-ea63-44e7-f0f3-f93bc417258f"
      },
      "outputs": [
        {
          "name": "stdout",
          "output_type": "stream",
          "text": [
            "Launching training on one GPU.\n"
          ]
        },
        {
          "name": "stderr",
          "output_type": "stream",
          "text": [
            "Epoch 50:   0%|          | 0/815 [00:00<?, ?it/s]"
          ]
        },
        {
          "name": "stderr",
          "output_type": "stream",
          "text": [
            "Epoch 50: 100%|██████████| 815/815 [03:30<00:00,  3.88it/s, loss=0.0119, lr=9.86e-5, step=814] \n",
            "Epoch 51: 100%|██████████| 815/815 [03:28<00:00,  3.90it/s, loss=0.0105, lr=9.46e-5, step=1629]\n",
            "Epoch 52: 100%|██████████| 815/815 [03:28<00:00,  3.90it/s, loss=0.0233, lr=8.8e-5, step=2444]  \n",
            "Epoch 53: 100%|██████████| 815/815 [03:28<00:00,  3.90it/s, loss=0.00869, lr=7.94e-5, step=3259]\n",
            "Epoch 54: 100%|██████████| 815/815 [03:28<00:00,  3.91it/s, loss=0.000422, lr=6.91e-5, step=4074]\n",
            "Epoch 55: 100%|██████████| 815/815 [03:29<00:00,  3.90it/s, loss=0.0178, lr=5.78e-5, step=4889]\n",
            "Epoch 56: 100%|██████████| 815/815 [03:28<00:00,  3.91it/s, loss=0.0102, lr=4.61e-5, step=5704] \n",
            "Epoch 57: 100%|██████████| 815/815 [03:29<00:00,  3.90it/s, loss=0.0214, lr=3.45e-5, step=6519]\n",
            "Epoch 58: 100%|██████████| 815/815 [03:28<00:00,  3.91it/s, loss=0.00734, lr=2.39e-5, step=7334]\n",
            "100%|██████████| 1000/1000 [01:55<00:00,  8.69it/s]\n",
            "Epoch 59: 100%|██████████| 815/815 [05:25<00:00,  2.50it/s, loss=0.00473, lr=1.46e-5, step=8149]\n",
            "Epoch 60: 100%|██████████| 815/815 [03:28<00:00,  3.91it/s, loss=0.0233, lr=7.37e-6, step=8964] \n",
            "Epoch 61: 100%|██████████| 815/815 [03:28<00:00,  3.90it/s, loss=0.0225, lr=2.45e-6, step=9779]\n",
            "Epoch 62: 100%|██████████| 815/815 [03:27<00:00,  3.93it/s, loss=0.0101, lr=1.54e-7, step=10594]  \n",
            "Epoch 63: 100%|██████████| 815/815 [03:17<00:00,  4.13it/s, loss=0.0148, lr=6.16e-7, step=11409]\n",
            "Epoch 64: 100%|██████████| 815/815 [03:10<00:00,  4.27it/s, loss=0.00547, lr=3.81e-6, step=12224]\n",
            "Epoch 65: 100%|██████████| 815/815 [03:11<00:00,  4.26it/s, loss=0.00364, lr=9.55e-6, step=13039]\n",
            "Epoch 66: 100%|██████████| 815/815 [03:10<00:00,  4.28it/s, loss=0.00684, lr=1.69e-5, step=13854]\n",
            "Epoch 67: 100%|██████████| 815/815 [03:11<00:00,  4.26it/s, loss=0.0248, lr=2.66e-5, step=14669]\n",
            "Epoch 68: 100%|██████████| 815/815 [03:10<00:00,  4.28it/s, loss=0.0107, lr=3.76e-5, step=15484] \n",
            "100%|██████████| 1000/1000 [01:43<00:00,  9.65it/s]\n",
            "Epoch 69: 100%|██████████| 815/815 [04:54<00:00,  2.77it/s, loss=0.0099, lr=4.92e-5, step=16299]\n",
            "Epoch 70: 100%|██████████| 815/815 [03:10<00:00,  4.28it/s, loss=0.0611, lr=6.01e-5, step=17114] \n",
            "Epoch 71: 100%|██████████| 815/815 [03:11<00:00,  4.27it/s, loss=0.0254, lr=7.13e-5, step=17929]\n",
            "Epoch 72: 100%|██████████| 815/815 [03:10<00:00,  4.28it/s, loss=0.0302, lr=8.13e-5, step=18744] \n",
            "Epoch 73: 100%|██████████| 815/815 [03:10<00:00,  4.27it/s, loss=0.00802, lr=8.9e-5, step=19559]\n",
            "Epoch 74: 100%|██████████| 815/815 [03:10<00:00,  4.28it/s, loss=0.00569, lr=9.52e-5, step=20374]\n",
            "Epoch 75: 100%|██████████| 815/815 [03:11<00:00,  4.27it/s, loss=0.0359, lr=9.9e-5, step=21189]\n",
            "Epoch 76: 100%|██████████| 815/815 [03:10<00:00,  4.28it/s, loss=0.0279, lr=0.0001, step=22004]   \n",
            "Epoch 77: 100%|██████████| 815/815 [03:10<00:00,  4.27it/s, loss=0.00259, lr=9.82e-5, step=22819]\n",
            "Epoch 78: 100%|██████████| 815/815 [03:10<00:00,  4.28it/s, loss=0.0096, lr=9.42e-5, step=23634] \n",
            "100%|██████████| 1000/1000 [01:43<00:00,  9.64it/s]\n",
            "Epoch 79: 100%|██████████| 815/815 [04:55<00:00,  2.76it/s, loss=0.00578, lr=8.75e-5, step=24449]\n",
            "Epoch 80: 100%|██████████| 815/815 [03:10<00:00,  4.28it/s, loss=0.0213, lr=7.94e-5, step=25264] \n",
            "Epoch 81: 100%|██████████| 815/815 [03:11<00:00,  4.27it/s, loss=0.0102, lr=6.99e-5, step=26079]\n",
            "Epoch 82: 100%|██████████| 815/815 [03:10<00:00,  4.28it/s, loss=0.0434, lr=5.86e-5, step=26894]  \n",
            "Epoch 83: 100%|██████████| 815/815 [03:11<00:00,  4.27it/s, loss=0.000184, lr=4.76e-5, step=27709]\n",
            "Epoch 84: 100%|██████████| 815/815 [03:10<00:00,  4.28it/s, loss=0.0314, lr=3.61e-5, step=28524] \n",
            "Epoch 85: 100%|██████████| 815/815 [03:11<00:00,  4.26it/s, loss=0.00334, lr=2.52e-5, step=29339]\n",
            "Epoch 86: 100%|██████████| 815/815 [03:10<00:00,  4.27it/s, loss=0.00431, lr=1.58e-5, step=30154]\n",
            "Epoch 87: 100%|██████████| 815/815 [03:11<00:00,  4.27it/s, loss=0.00428, lr=8.21e-6, step=30969]\n",
            "Epoch 88: 100%|██████████| 815/815 [03:10<00:00,  4.28it/s, loss=0.00146, lr=3.23e-6, step=31784]\n",
            "100%|██████████| 1000/1000 [01:43<00:00,  9.65it/s]\n",
            "Epoch 89: 100%|██████████| 815/815 [04:56<00:00,  2.75it/s, loss=0.0136, lr=3.94e-7, step=32599]\n",
            "Epoch 90: 100%|██████████| 815/815 [03:10<00:00,  4.27it/s, loss=0.11, lr=3.02e-7, step=33414]    \n",
            "Epoch 91: 100%|██████████| 815/815 [03:10<00:00,  4.27it/s, loss=0.000807, lr=2.7e-6, step=34229]\n",
            "Epoch 92: 100%|██████████| 815/815 [03:10<00:00,  4.28it/s, loss=0.000825, lr=7.78e-6, step=35044]\n",
            "Epoch 93: 100%|██████████| 815/815 [03:10<00:00,  4.27it/s, loss=0.00103, lr=1.52e-5, step=35859]\n",
            "Epoch 94: 100%|██████████| 815/815 [03:10<00:00,  4.27it/s, loss=0.009, lr=2.39e-5, step=36674]   \n",
            "Epoch 95: 100%|██████████| 815/815 [03:11<00:00,  4.26it/s, loss=0.0022, lr=3.45e-5, step=37489]\n",
            "Epoch 96: 100%|██████████| 815/815 [03:10<00:00,  4.28it/s, loss=0.0305, lr=4.61e-5, step=38304] \n",
            "Epoch 97: 100%|██████████| 815/815 [03:11<00:00,  4.26it/s, loss=0.0221, lr=5.78e-5, step=39119]\n",
            "Epoch 98: 100%|██████████| 815/815 [03:10<00:00,  4.27it/s, loss=0.00772, lr=6.91e-5, step=39934]\n",
            "100%|██████████| 1000/1000 [01:43<00:00,  9.64it/s]\n",
            "Epoch 99: 100%|██████████| 815/815 [04:54<00:00,  2.76it/s, loss=0.00594, lr=7.88e-5, step=40749]\n",
            "Epoch 100: 100%|██████████| 815/815 [03:10<00:00,  4.28it/s, loss=0.00492, lr=8.7e-5, step=41564]  \n",
            "Epoch 101: 100%|██████████| 815/815 [03:10<00:00,  4.27it/s, loss=0.00513, lr=9.38e-5, step=42379]\n",
            "Epoch 102: 100%|██████████| 815/815 [03:10<00:00,  4.27it/s, loss=0.00885, lr=9.82e-5, step=43194] \n",
            "Epoch 103: 100%|██████████| 815/815 [03:11<00:00,  4.26it/s, loss=0.0343, lr=0.0001, step=44009]\n",
            "Epoch 104: 100%|██████████| 815/815 [03:10<00:00,  4.28it/s, loss=0.0466, lr=9.9e-5, step=44824]  \n",
            "Epoch 105: 100%|██████████| 815/815 [03:11<00:00,  4.26it/s, loss=0.00823, lr=9.56e-5, step=45639]\n",
            "Epoch 106: 100%|██████████| 815/815 [03:10<00:00,  4.27it/s, loss=0.00286, lr=8.95e-5, step=46454] \n",
            "Epoch 107: 100%|██████████| 815/815 [03:11<00:00,  4.26it/s, loss=0.00621, lr=8.13e-5, step=47269]\n",
            "Epoch 108: 100%|██████████| 815/815 [03:10<00:00,  4.27it/s, loss=0.00292, lr=7.2e-5, step=48084] \n",
            "100%|██████████| 1000/1000 [01:43<00:00,  9.65it/s]\n",
            "Epoch 109: 100%|██████████| 815/815 [04:54<00:00,  2.76it/s, loss=0.00786, lr=6.09e-5, step=48899]\n",
            "Epoch 110: 100%|██████████| 815/815 [03:10<00:00,  4.28it/s, loss=0.0033, lr=5e-5, step=49714]    \n",
            "Epoch 111: 100%|██████████| 815/815 [03:11<00:00,  4.27it/s, loss=0.0067, lr=3.83e-5, step=50529]\n",
            "Epoch 112: 100%|██████████| 815/815 [03:10<00:00,  4.28it/s, loss=0.0384, lr=2.73e-5, step=51344] \n",
            "Epoch 113: 100%|██████████| 815/815 [03:10<00:00,  4.27it/s, loss=0.0608, lr=1.81e-5, step=52159]\n",
            "Epoch 114: 100%|██████████| 815/815 [03:10<00:00,  4.27it/s, loss=0.027, lr=1e-5, step=52974]      \n",
            "Epoch 115: 100%|██████████| 815/815 [03:10<00:00,  4.27it/s, loss=0.0116, lr=4.43e-6, step=53789]\n",
            "Epoch 116: 100%|██████████| 815/815 [03:10<00:00,  4.28it/s, loss=0.0187, lr=8.86e-7, step=54604] \n",
            "Epoch 117: 100%|██████████| 815/815 [03:10<00:00,  4.27it/s, loss=0.00876, lr=5.55e-8, step=55419]\n",
            "Epoch 118: 100%|██████████| 815/815 [03:10<00:00,  4.28it/s, loss=0.0107, lr=1.77e-6, step=56234] \n",
            "100%|██████████| 1000/1000 [01:43<00:00,  9.64it/s]\n",
            "Epoch 119: 100%|██████████| 815/815 [04:56<00:00,  2.75it/s, loss=0.0159, lr=6.18e-6, step=57049]\n",
            "Epoch 120: 100%|██████████| 815/815 [03:10<00:00,  4.28it/s, loss=0.00351, lr=1.25e-5, step=57864] \n",
            "Epoch 121: 100%|██████████| 815/815 [03:10<00:00,  4.27it/s, loss=0.00571, lr=2.12e-5, step=58679]\n",
            "Epoch 122: 100%|██████████| 815/815 [03:10<00:00,  4.28it/s, loss=0.0115, lr=3.16e-5, step=59494] \n",
            "Epoch 123: 100%|██████████| 815/815 [03:10<00:00,  4.27it/s, loss=0.0972, lr=4.22e-5, step=60309]\n",
            "Epoch 124: 100%|██████████| 815/815 [03:10<00:00,  4.28it/s, loss=0.00666, lr=5.39e-5, step=61124]\n",
            "Epoch 125: 100%|██████████| 815/815 [03:10<00:00,  4.27it/s, loss=0.00559, lr=6.47e-5, step=61939]\n",
            "Epoch 126: 100%|██████████| 815/815 [03:10<00:00,  4.28it/s, loss=0.0102, lr=7.55e-5, step=62754]  \n",
            "Epoch 127: 100%|██████████| 815/815 [03:10<00:00,  4.27it/s, loss=0.00574, lr=8.48e-5, step=63569]\n",
            "Epoch 128: 100%|██████████| 815/815 [03:10<00:00,  4.28it/s, loss=0.0172, lr=9.18e-5, step=64384] \n",
            "100%|██████████| 1000/1000 [01:43<00:00,  9.65it/s]\n",
            "Epoch 129: 100%|██████████| 815/815 [04:54<00:00,  2.77it/s, loss=0.00567, lr=9.7e-5, step=65199]\n",
            "Epoch 130: 100%|██████████| 815/815 [03:10<00:00,  4.28it/s, loss=0.115, lr=9.96e-5, step=66014]  \n",
            "Epoch 131: 100%|██████████| 815/815 [03:10<00:00,  4.27it/s, loss=0.0526, lr=9.97e-5, step=66829]\n",
            "Epoch 132: 100%|██████████| 815/815 [03:10<00:00,  4.28it/s, loss=0.00744, lr=9.73e-5, step=67644] \n",
            "Epoch 133: 100%|██████████| 815/815 [03:10<00:00,  4.27it/s, loss=0.00772, lr=9.22e-5, step=68459]\n",
            "Epoch 134: 100%|██████████| 815/815 [03:10<00:00,  4.28it/s, loss=0.000524, lr=8.48e-5, step=69274]\n",
            "Epoch 135: 100%|██████████| 815/815 [03:10<00:00,  4.27it/s, loss=0.0175, lr=7.61e-5, step=70089]\n",
            "Epoch 136: 100%|██████████| 815/815 [03:10<00:00,  4.28it/s, loss=0.0399, lr=6.55e-5, step=70904] \n",
            "Epoch 137: 100%|██████████| 815/815 [03:10<00:00,  4.27it/s, loss=0.00502, lr=5.47e-5, step=71719]\n",
            "Epoch 138: 100%|██████████| 815/815 [03:10<00:00,  4.28it/s, loss=0.0102, lr=4.3e-5, step=72534]   \n",
            "100%|██████████| 1000/1000 [01:43<00:00,  9.65it/s]\n",
            "Epoch 139: 100%|██████████| 815/815 [04:54<00:00,  2.77it/s, loss=0.000807, lr=3.23e-5, step=73349]\n",
            "Epoch 140: 100%|██████████| 815/815 [03:10<00:00,  4.28it/s, loss=0.0154, lr=2.19e-5, step=74164] \n",
            "Epoch 141: 100%|██████████| 815/815 [03:10<00:00,  4.27it/s, loss=0.0482, lr=1.3e-5, step=74979]\n",
            "Epoch 142: 100%|██████████| 815/815 [03:10<00:00,  4.28it/s, loss=0.00269, lr=6.18e-6, step=75794]\n",
            "Epoch 143: 100%|██████████| 815/815 [03:10<00:00,  4.27it/s, loss=0.01, lr=1.77e-6, step=76609]\n",
            "Epoch 144: 100%|██████████| 815/815 [03:10<00:00,  4.28it/s, loss=0.00655, lr=5.55e-8, step=77424]\n",
            "Epoch 145: 100%|██████████| 815/815 [03:10<00:00,  4.27it/s, loss=0.0118, lr=8.86e-7, step=78239]\n",
            "Epoch 146: 100%|██████████| 815/815 [03:10<00:00,  4.28it/s, loss=0.0162, lr=4.43e-6, step=79054]  \n",
            "Epoch 147: 100%|██████████| 815/815 [03:10<00:00,  4.27it/s, loss=0.0232, lr=1e-5, step=79869]\n",
            "Epoch 148: 100%|██████████| 815/815 [03:10<00:00,  4.28it/s, loss=0.00374, lr=1.81e-5, step=80684]\n",
            "100%|██████████| 1000/1000 [01:43<00:00,  9.65it/s]\n",
            "Epoch 149: 100%|██████████| 815/815 [04:55<00:00,  2.75it/s, loss=0.0135, lr=2.73e-5, step=81499]\n",
            "Epoch 150: 100%|██████████| 815/815 [03:10<00:00,  4.28it/s, loss=0.00614, lr=3.83e-5, step=82314] \n",
            "Epoch 151: 100%|██████████| 815/815 [03:10<00:00,  4.27it/s, loss=0.00496, lr=5e-5, step=83129]\n",
            "Epoch 152: 100%|██████████| 815/815 [03:10<00:00,  4.28it/s, loss=0.00384, lr=6.09e-5, step=83944]\n",
            "Epoch 153: 100%|██████████| 815/815 [03:10<00:00,  4.27it/s, loss=0.022, lr=7.2e-5, step=84759]\n",
            "Epoch 154: 100%|██████████| 815/815 [03:10<00:00,  4.28it/s, loss=0.0222, lr=8.13e-5, step=85574] \n",
            "Epoch 155: 100%|██████████| 815/815 [03:10<00:00,  4.27it/s, loss=0.0185, lr=8.9e-5, step=86389]\n",
            "Epoch 156: 100%|██████████| 815/815 [03:10<00:00,  4.28it/s, loss=0.0108, lr=9.52e-5, step=87204] \n",
            "Epoch 157: 100%|██████████| 815/815 [03:10<00:00,  4.27it/s, loss=0.00307, lr=9.9e-5, step=88019]\n",
            "Epoch 158: 100%|██████████| 815/815 [03:10<00:00,  4.28it/s, loss=0.0875, lr=0.0001, step=88834]  \n",
            "100%|██████████| 1000/1000 [01:43<00:00,  9.65it/s]\n",
            "Epoch 159: 100%|██████████| 815/815 [04:54<00:00,  2.77it/s, loss=0.00753, lr=9.82e-5, step=89649]\n",
            "Epoch 160: 100%|██████████| 815/815 [03:10<00:00,  4.28it/s, loss=0.00494, lr=9.42e-5, step=90464] \n",
            "Epoch 161: 100%|██████████| 815/815 [03:10<00:00,  4.27it/s, loss=0.00634, lr=8.75e-5, step=91279]\n",
            "Epoch 162: 100%|██████████| 815/815 [03:10<00:00,  4.28it/s, loss=0.129, lr=7.94e-5, step=92094]  \n",
            "Epoch 163: 100%|██████████| 815/815 [03:11<00:00,  4.27it/s, loss=0.0133, lr=6.91e-5, step=92909]\n",
            "Epoch 164: 100%|██████████| 815/815 [03:10<00:00,  4.28it/s, loss=0.00813, lr=5.78e-5, step=93724] \n",
            "Epoch 165: 100%|██████████| 815/815 [03:10<00:00,  4.27it/s, loss=0.0104, lr=4.69e-5, step=94539]\n",
            "Epoch 166: 100%|██████████| 815/815 [03:10<00:00,  4.28it/s, loss=0.0187, lr=3.53e-5, step=95354] \n",
            "Epoch 167: 100%|██████████| 815/815 [03:10<00:00,  4.27it/s, loss=0.0026, lr=2.52e-5, step=96169]\n",
            "Epoch 168: 100%|██████████| 815/815 [03:10<00:00,  4.28it/s, loss=0.00913, lr=1.58e-5, step=96984]\n",
            "100%|██████████| 1000/1000 [01:43<00:00,  9.65it/s]\n",
            "Epoch 169: 100%|██████████| 815/815 [04:54<00:00,  2.77it/s, loss=0.00365, lr=8.21e-6, step=97799]\n",
            "Epoch 170: 100%|██████████| 815/815 [03:10<00:00,  4.28it/s, loss=0.00923, lr=3.23e-6, step=98614]\n",
            "Epoch 171: 100%|██████████| 815/815 [03:10<00:00,  4.27it/s, loss=0.00669, lr=3.94e-7, step=99429]\n",
            "Epoch 172: 100%|██████████| 815/815 [03:10<00:00,  4.28it/s, loss=0.012, lr=3.02e-7, step=1e+5]   \n",
            "Epoch 173: 100%|██████████| 815/815 [03:10<00:00,  4.27it/s, loss=0.00155, lr=2.7e-6, step=101059]\n",
            "Epoch 174: 100%|██████████| 815/815 [03:10<00:00,  4.28it/s, loss=0.0185, lr=7.78e-6, step=101874]  \n",
            "Epoch 175: 100%|██████████| 815/815 [03:10<00:00,  4.27it/s, loss=0.00138, lr=1.46e-5, step=102689]\n",
            "Epoch 176: 100%|██████████| 815/815 [03:10<00:00,  4.28it/s, loss=0.003, lr=2.39e-5, step=103504]   \n",
            "Epoch 177: 100%|██████████| 815/815 [03:10<00:00,  4.27it/s, loss=0.00869, lr=3.45e-5, step=104319]\n",
            "Epoch 178: 100%|██████████| 815/815 [03:10<00:00,  4.28it/s, loss=0.00172, lr=4.53e-5, step=105134]\n",
            "100%|██████████| 1000/1000 [01:43<00:00,  9.65it/s]\n",
            "Epoch 179: 100%|██████████| 815/815 [04:55<00:00,  2.75it/s, loss=0.000777, lr=5.7e-5, step=105949]\n",
            "Epoch 180: 100%|██████████| 815/815 [03:10<00:00,  4.28it/s, loss=0.0118, lr=6.77e-5, step=106764] \n",
            "Epoch 181: 100%|██████████| 815/815 [03:10<00:00,  4.27it/s, loss=0.0627, lr=7.81e-5, step=107579]\n",
            "Epoch 182: 100%|██████████| 815/815 [03:10<00:00,  4.28it/s, loss=0.000636, lr=8.7e-5, step=108394]\n",
            "Epoch 183: 100%|██████████| 815/815 [03:10<00:00,  4.27it/s, loss=0.0424, lr=9.34e-5, step=109209]\n",
            "Epoch 184: 100%|██████████| 815/815 [03:10<00:00,  4.28it/s, loss=0.0162, lr=9.8e-5, step=110024]   \n",
            "Epoch 185: 100%|██████████| 815/815 [03:11<00:00,  4.27it/s, loss=0.00448, lr=9.99e-5, step=110839]\n",
            "Epoch 186: 100%|██████████| 815/815 [03:10<00:00,  4.28it/s, loss=0.0512, lr=9.93e-5, step=111654] \n",
            "Epoch 187: 100%|██████████| 815/815 [03:10<00:00,  4.27it/s, loss=0.00847, lr=9.59e-5, step=112469]\n",
            "Epoch 188: 100%|██████████| 815/815 [03:10<00:00,  4.28it/s, loss=0.00341, lr=9.05e-5, step=113284]\n",
            "100%|██████████| 1000/1000 [01:43<00:00,  9.65it/s]\n",
            "Epoch 189: 100%|██████████| 815/815 [04:54<00:00,  2.76it/s, loss=0.0185, lr=8.25e-5, step=114099]\n",
            "Epoch 190: 100%|██████████| 815/815 [03:10<00:00,  4.28it/s, loss=0.0178, lr=7.34e-5, step=114914] \n",
            "Epoch 191: 100%|██████████| 815/815 [03:10<00:00,  4.27it/s, loss=0.003, lr=6.24e-5, step=115729]\n",
            "Epoch 192: 100%|██████████| 815/815 [03:10<00:00,  4.28it/s, loss=0.00387, lr=5.08e-5, step=116544] \n",
            "Epoch 193: 100%|██████████| 815/815 [03:10<00:00,  4.27it/s, loss=0.0132, lr=3.99e-5, step=117359]\n",
            "Epoch 194: 100%|██████████| 815/815 [03:10<00:00,  4.28it/s, loss=0.0355, lr=2.87e-5, step=118174] \n",
            "Epoch 195: 100%|██████████| 815/815 [03:10<00:00,  4.27it/s, loss=0.0835, lr=1.94e-5, step=118989]\n",
            "Epoch 196: 100%|██████████| 815/815 [03:10<00:00,  4.28it/s, loss=0.0134, lr=1.1e-5, step=119804]  \n",
            "Epoch 197: 100%|██████████| 815/815 [03:10<00:00,  4.27it/s, loss=0.00753, lr=4.76e-6, step=120619]\n",
            "Epoch 198: 100%|██████████| 815/815 [03:10<00:00,  4.28it/s, loss=0.0162, lr=1.2e-6, step=121434]   \n",
            "100%|██████████| 1000/1000 [01:43<00:00,  9.65it/s]\n",
            "Epoch 199: 100%|██████████| 815/815 [04:55<00:00,  2.76it/s, loss=0.00728, lr=0, step=122249]\n"
          ]
        }
      ],
      "source": [
        "from accelerate import notebook_launcher\n",
        "\n",
        "args = (config, model, noise_scheduler, optimizer, train_dataloader, lr_scheduler)\n",
        "\n",
        "notebook_launcher(train_loop, args, num_processes=1)"
      ]
    },
    {
      "cell_type": "markdown",
      "metadata": {
        "id": "B_oPWjCpyccS"
      },
      "source": [
        "## Guardando el modelo, el scheduler y el optimizador."
      ]
    },
    {
      "cell_type": "code",
      "execution_count": null,
      "metadata": {
        "id": "0SOzb_1HyccS"
      },
      "outputs": [],
      "source": [
        "# Guardar modelo y estado de optimizer/scheduler según config.save_model_epochs como antes\n",
        "model.save_pretrained(config.output_dir)\n",
        "torch.save(optimizer.state_dict(), os.path.join(config.output_dir, \"optimizer_state.pt\"))\n",
        "torch.save(lr_scheduler.state_dict(), os.path.join(config.output_dir, \"scheduler_state.pt\"))"
      ]
    }
  ],
  "metadata": {
    "kernelspec": {
      "display_name": ".env",
      "language": "python",
      "name": "python3"
    },
    "language_info": {
      "codemirror_mode": {
        "name": "ipython",
        "version": 3
      },
      "file_extension": ".py",
      "mimetype": "text/x-python",
      "name": "python",
      "nbconvert_exporter": "python",
      "pygments_lexer": "ipython3",
      "version": "3.12.7"
    },
    "colab": {
      "provenance": []
    }
  },
  "nbformat": 4,
  "nbformat_minor": 0
}